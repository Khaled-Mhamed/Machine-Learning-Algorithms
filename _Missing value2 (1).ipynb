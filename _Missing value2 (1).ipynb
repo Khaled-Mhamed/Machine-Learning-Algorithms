{
 "cells": [
  {
   "cell_type": "code",
   "execution_count": 9,
   "id": "9408ac87-30ef-4338-a1a1-dfe9fdf4b31f",
   "metadata": {},
   "outputs": [],
   "source": [
    "import pandas as pd"
   ]
  },
  {
   "cell_type": "code",
   "execution_count": 11,
   "id": "f7242423-a2b6-4ea2-b460-5570de2be517",
   "metadata": {},
   "outputs": [],
   "source": [
    "import numpy as np"
   ]
  },
  {
   "cell_type": "code",
   "execution_count": 59,
   "id": "1cc25184-4f42-4833-88fa-bb48b801cbcf",
   "metadata": {},
   "outputs": [],
   "source": [
    "miles = pd.DataFrame({'farthest_run_mi': [50, 62, np.nan, 100, 26,np.nan, 31, 50]})"
   ]
  },
  {
   "cell_type": "code",
   "execution_count": 61,
   "id": "d93f18c7-24f4-444f-862b-5b7bc419ec8e",
   "metadata": {},
   "outputs": [
    {
     "data": {
      "text/html": [
       "<div>\n",
       "<style scoped>\n",
       "    .dataframe tbody tr th:only-of-type {\n",
       "        vertical-align: middle;\n",
       "    }\n",
       "\n",
       "    .dataframe tbody tr th {\n",
       "        vertical-align: top;\n",
       "    }\n",
       "\n",
       "    .dataframe thead th {\n",
       "        text-align: right;\n",
       "    }\n",
       "</style>\n",
       "<table border=\"1\" class=\"dataframe\">\n",
       "  <thead>\n",
       "    <tr style=\"text-align: right;\">\n",
       "      <th></th>\n",
       "      <th>farthest_run_mi</th>\n",
       "    </tr>\n",
       "  </thead>\n",
       "  <tbody>\n",
       "    <tr>\n",
       "      <th>0</th>\n",
       "      <td>50.0</td>\n",
       "    </tr>\n",
       "    <tr>\n",
       "      <th>1</th>\n",
       "      <td>62.0</td>\n",
       "    </tr>\n",
       "    <tr>\n",
       "      <th>2</th>\n",
       "      <td>NaN</td>\n",
       "    </tr>\n",
       "    <tr>\n",
       "      <th>3</th>\n",
       "      <td>100.0</td>\n",
       "    </tr>\n",
       "    <tr>\n",
       "      <th>4</th>\n",
       "      <td>26.0</td>\n",
       "    </tr>\n",
       "    <tr>\n",
       "      <th>5</th>\n",
       "      <td>NaN</td>\n",
       "    </tr>\n",
       "    <tr>\n",
       "      <th>6</th>\n",
       "      <td>31.0</td>\n",
       "    </tr>\n",
       "    <tr>\n",
       "      <th>7</th>\n",
       "      <td>50.0</td>\n",
       "    </tr>\n",
       "  </tbody>\n",
       "</table>\n",
       "</div>"
      ],
      "text/plain": [
       "   farthest_run_mi\n",
       "0             50.0\n",
       "1             62.0\n",
       "2              NaN\n",
       "3            100.0\n",
       "4             26.0\n",
       "5              NaN\n",
       "6             31.0\n",
       "7             50.0"
      ]
     },
     "execution_count": 61,
     "metadata": {},
     "output_type": "execute_result"
    }
   ],
   "source": [
    "miles"
   ]
  },
  {
   "cell_type": "code",
   "execution_count": 63,
   "id": "00b8d7b3-c57e-4cbe-9932-44949a4591b2",
   "metadata": {},
   "outputs": [
    {
     "data": {
      "text/plain": [
       "farthest_run_mi    2\n",
       "dtype: int64"
      ]
     },
     "execution_count": 63,
     "metadata": {},
     "output_type": "execute_result"
    }
   ],
   "source": [
    "miles.isna().sum()"
   ]
  },
  {
   "cell_type": "code",
   "execution_count": 65,
   "id": "e0c811db-272f-4d27-b0a4-67139cd91450",
   "metadata": {},
   "outputs": [],
   "source": [
    "from sklearn.impute import SimpleImputer"
   ]
  },
  {
   "cell_type": "code",
   "execution_count": 67,
   "id": "bbd55216-704e-46dd-b6d3-2d36e778692a",
   "metadata": {},
   "outputs": [],
   "source": [
    "imp_mean = SimpleImputer(strategy='mean')"
   ]
  },
  {
   "cell_type": "code",
   "execution_count": 69,
   "id": "dd31a2c1-4920-463d-ad0a-eb4a354e8eb3",
   "metadata": {},
   "outputs": [
    {
     "data": {
      "text/plain": [
       "array([[ 50.        ],\n",
       "       [ 62.        ],\n",
       "       [ 53.16666667],\n",
       "       [100.        ],\n",
       "       [ 26.        ],\n",
       "       [ 53.16666667],\n",
       "       [ 31.        ],\n",
       "       [ 50.        ]])"
      ]
     },
     "execution_count": 69,
     "metadata": {},
     "output_type": "execute_result"
    }
   ],
   "source": [
    "imp_mean.fit_transform(miles)"
   ]
  },
  {
   "cell_type": "code",
   "execution_count": 71,
   "id": "b3924ad3-fb6a-4406-be2b-e42718c935fc",
   "metadata": {},
   "outputs": [],
   "source": [
    "imp_median = SimpleImputer(strategy='median')"
   ]
  },
  {
   "cell_type": "code",
   "execution_count": 73,
   "id": "da1ccfd7-5fe7-4dff-bdf6-4621fdc8326f",
   "metadata": {},
   "outputs": [
    {
     "data": {
      "text/plain": [
       "array([[ 50.],\n",
       "       [ 62.],\n",
       "       [ 50.],\n",
       "       [100.],\n",
       "       [ 26.],\n",
       "       [ 50.],\n",
       "       [ 31.],\n",
       "       [ 50.]])"
      ]
     },
     "execution_count": 73,
     "metadata": {},
     "output_type": "execute_result"
    }
   ],
   "source": [
    "imp_median.fit_transform(miles)"
   ]
  },
  {
   "cell_type": "code",
   "execution_count": 75,
   "id": "b8ddf007-b17e-4e4c-9c7d-3c34a27471ac",
   "metadata": {},
   "outputs": [],
   "source": [
    "imp_mod = SimpleImputer(strategy='most_frequent')"
   ]
  },
  {
   "cell_type": "code",
   "execution_count": 77,
   "id": "47bd8c1f-f8f1-4456-8cf5-a55fb9c42c89",
   "metadata": {},
   "outputs": [
    {
     "data": {
      "text/plain": [
       "array([[ 50.],\n",
       "       [ 62.],\n",
       "       [ 50.],\n",
       "       [100.],\n",
       "       [ 26.],\n",
       "       [ 50.],\n",
       "       [ 31.],\n",
       "       [ 50.]])"
      ]
     },
     "execution_count": 77,
     "metadata": {},
     "output_type": "execute_result"
    }
   ],
   "source": [
    "imp_mod.fit_transform(miles)"
   ]
  },
  {
   "cell_type": "code",
   "execution_count": 79,
   "id": "642db6b2-b440-4eb4-bd98-fc8b7cf473f7",
   "metadata": {},
   "outputs": [],
   "source": [
    "imp_constant=SimpleImputer(strategy='constant',fill_value=13)"
   ]
  },
  {
   "cell_type": "code",
   "execution_count": 81,
   "id": "19be33b9-08af-4420-a38f-0a08a91b3316",
   "metadata": {},
   "outputs": [
    {
     "data": {
      "text/plain": [
       "array([[ 50.],\n",
       "       [ 62.],\n",
       "       [ 13.],\n",
       "       [100.],\n",
       "       [ 26.],\n",
       "       [ 13.],\n",
       "       [ 31.],\n",
       "       [ 50.]])"
      ]
     },
     "execution_count": 81,
     "metadata": {},
     "output_type": "execute_result"
    }
   ],
   "source": [
    "imp_constant.fit_transform(miles)"
   ]
  },
  {
   "cell_type": "code",
   "execution_count": 83,
   "id": "a5734e70-f0b8-4de9-8022-58ed5ef9a2db",
   "metadata": {},
   "outputs": [],
   "source": [
    "names = pd.DataFrame({'Names': ['Khaled','amr', np.nan,'ahmed','ali', 'mohemed','mahmoud','eslem']})"
   ]
  },
  {
   "cell_type": "code",
   "execution_count": 85,
   "id": "e3cd6ce4-a70e-4cda-9174-445ca7295b79",
   "metadata": {},
   "outputs": [
    {
     "data": {
      "text/html": [
       "<div>\n",
       "<style scoped>\n",
       "    .dataframe tbody tr th:only-of-type {\n",
       "        vertical-align: middle;\n",
       "    }\n",
       "\n",
       "    .dataframe tbody tr th {\n",
       "        vertical-align: top;\n",
       "    }\n",
       "\n",
       "    .dataframe thead th {\n",
       "        text-align: right;\n",
       "    }\n",
       "</style>\n",
       "<table border=\"1\" class=\"dataframe\">\n",
       "  <thead>\n",
       "    <tr style=\"text-align: right;\">\n",
       "      <th></th>\n",
       "      <th>Names</th>\n",
       "    </tr>\n",
       "  </thead>\n",
       "  <tbody>\n",
       "    <tr>\n",
       "      <th>0</th>\n",
       "      <td>Khaled</td>\n",
       "    </tr>\n",
       "    <tr>\n",
       "      <th>1</th>\n",
       "      <td>amr</td>\n",
       "    </tr>\n",
       "    <tr>\n",
       "      <th>2</th>\n",
       "      <td>NaN</td>\n",
       "    </tr>\n",
       "    <tr>\n",
       "      <th>3</th>\n",
       "      <td>ahmed</td>\n",
       "    </tr>\n",
       "    <tr>\n",
       "      <th>4</th>\n",
       "      <td>ali</td>\n",
       "    </tr>\n",
       "    <tr>\n",
       "      <th>5</th>\n",
       "      <td>mohemed</td>\n",
       "    </tr>\n",
       "    <tr>\n",
       "      <th>6</th>\n",
       "      <td>mahmoud</td>\n",
       "    </tr>\n",
       "    <tr>\n",
       "      <th>7</th>\n",
       "      <td>eslem</td>\n",
       "    </tr>\n",
       "  </tbody>\n",
       "</table>\n",
       "</div>"
      ],
      "text/plain": [
       "     Names\n",
       "0   Khaled\n",
       "1      amr\n",
       "2      NaN\n",
       "3    ahmed\n",
       "4      ali\n",
       "5  mohemed\n",
       "6  mahmoud\n",
       "7    eslem"
      ]
     },
     "execution_count": 85,
     "metadata": {},
     "output_type": "execute_result"
    }
   ],
   "source": [
    "names"
   ]
  },
  {
   "cell_type": "code",
   "execution_count": 87,
   "id": "fed01ff9-5cc6-4c11-9da6-2fc2c00a4d64",
   "metadata": {},
   "outputs": [],
   "source": [
    "imp_constant = SimpleImputer(strategy = 'constant',fill_value='alaa')"
   ]
  },
  {
   "cell_type": "code",
   "execution_count": 89,
   "id": "f7b2106e-e5c1-4323-89e0-449f5ff55e64",
   "metadata": {},
   "outputs": [
    {
     "data": {
      "text/plain": [
       "array([['Khaled'],\n",
       "       ['amr'],\n",
       "       ['alaa'],\n",
       "       ['ahmed'],\n",
       "       ['ali'],\n",
       "       ['mohemed'],\n",
       "       ['mahmoud'],\n",
       "       ['eslem']], dtype=object)"
      ]
     },
     "execution_count": 89,
     "metadata": {},
     "output_type": "execute_result"
    }
   ],
   "source": [
    "imp_constant.fit_transform(names)"
   ]
  },
  {
   "cell_type": "code",
   "execution_count": 96,
   "id": "f5cb28e0-fce7-4a1e-845a-bad1ed644a9f",
   "metadata": {},
   "outputs": [],
   "source": [
    "imp_mean_marke=SimpleImputer(strategy='mean',add_indicator=True)"
   ]
  },
  {
   "cell_type": "code",
   "execution_count": 98,
   "id": "5acbe45e-fe8a-4782-a1b4-63bc0bc96a4f",
   "metadata": {},
   "outputs": [
    {
     "data": {
      "text/plain": [
       "array([[ 50.        ,   0.        ],\n",
       "       [ 62.        ,   0.        ],\n",
       "       [ 53.16666667,   1.        ],\n",
       "       [100.        ,   0.        ],\n",
       "       [ 26.        ,   0.        ],\n",
       "       [ 53.16666667,   1.        ],\n",
       "       [ 31.        ,   0.        ],\n",
       "       [ 50.        ,   0.        ]])"
      ]
     },
     "execution_count": 98,
     "metadata": {},
     "output_type": "execute_result"
    }
   ],
   "source": [
    "imp_mean_marke.fit_transform(miles)"
   ]
  },
  {
   "cell_type": "code",
   "execution_count": 106,
   "id": "58ee2941-3493-4c44-83f3-b7ab88be7ed8",
   "metadata": {},
   "outputs": [],
   "source": [
    "Work = pd.DataFrame({'Names': ['Khaled','amr', np.nan,'ahmed','ali', 'mohemed','mahmoud','eslem'],\n",
    "                     'farthest_run_mi': [50, 62, np.nan, 100, 26,np.nan, 31, 50]})"
   ]
  },
  {
   "cell_type": "code",
   "execution_count": 108,
   "id": "160f7913-553e-439e-a7c7-ddbe62eb515d",
   "metadata": {},
   "outputs": [
    {
     "data": {
      "text/html": [
       "<div>\n",
       "<style scoped>\n",
       "    .dataframe tbody tr th:only-of-type {\n",
       "        vertical-align: middle;\n",
       "    }\n",
       "\n",
       "    .dataframe tbody tr th {\n",
       "        vertical-align: top;\n",
       "    }\n",
       "\n",
       "    .dataframe thead th {\n",
       "        text-align: right;\n",
       "    }\n",
       "</style>\n",
       "<table border=\"1\" class=\"dataframe\">\n",
       "  <thead>\n",
       "    <tr style=\"text-align: right;\">\n",
       "      <th></th>\n",
       "      <th>Names</th>\n",
       "      <th>farthest_run_mi</th>\n",
       "    </tr>\n",
       "  </thead>\n",
       "  <tbody>\n",
       "    <tr>\n",
       "      <th>0</th>\n",
       "      <td>Khaled</td>\n",
       "      <td>50.0</td>\n",
       "    </tr>\n",
       "    <tr>\n",
       "      <th>1</th>\n",
       "      <td>amr</td>\n",
       "      <td>62.0</td>\n",
       "    </tr>\n",
       "    <tr>\n",
       "      <th>2</th>\n",
       "      <td>NaN</td>\n",
       "      <td>NaN</td>\n",
       "    </tr>\n",
       "    <tr>\n",
       "      <th>3</th>\n",
       "      <td>ahmed</td>\n",
       "      <td>100.0</td>\n",
       "    </tr>\n",
       "    <tr>\n",
       "      <th>4</th>\n",
       "      <td>ali</td>\n",
       "      <td>26.0</td>\n",
       "    </tr>\n",
       "    <tr>\n",
       "      <th>5</th>\n",
       "      <td>mohemed</td>\n",
       "      <td>NaN</td>\n",
       "    </tr>\n",
       "    <tr>\n",
       "      <th>6</th>\n",
       "      <td>mahmoud</td>\n",
       "      <td>31.0</td>\n",
       "    </tr>\n",
       "    <tr>\n",
       "      <th>7</th>\n",
       "      <td>eslem</td>\n",
       "      <td>50.0</td>\n",
       "    </tr>\n",
       "  </tbody>\n",
       "</table>\n",
       "</div>"
      ],
      "text/plain": [
       "     Names  farthest_run_mi\n",
       "0   Khaled             50.0\n",
       "1      amr             62.0\n",
       "2      NaN              NaN\n",
       "3    ahmed            100.0\n",
       "4      ali             26.0\n",
       "5  mohemed              NaN\n",
       "6  mahmoud             31.0\n",
       "7    eslem             50.0"
      ]
     },
     "execution_count": 108,
     "metadata": {},
     "output_type": "execute_result"
    }
   ],
   "source": [
    "Work"
   ]
  },
  {
   "cell_type": "code",
   "execution_count": 112,
   "id": "e03137b5-c665-401b-9d5a-3258199bfaf4",
   "metadata": {},
   "outputs": [],
   "source": [
    "from sklearn.compose import make_column_transformer"
   ]
  },
  {
   "cell_type": "code",
   "execution_count": 146,
   "id": "8301b6be-b6da-4b30-a163-2c7b82391b41",
   "metadata": {},
   "outputs": [],
   "source": [
    "ct   = make_column_transformer(\n",
    "       (imp_constant,['Names']),\n",
    "      (imp_mean,['farthest_run_mi']),\n",
    "      remainder='drop'    \n",
    ")\n"
   ]
  },
  {
   "cell_type": "code",
   "execution_count": 148,
   "id": "d838c4e3-fd0c-490f-a9df-29b2493904ac",
   "metadata": {},
   "outputs": [
    {
     "data": {
      "text/html": [
       "<style>#sk-container-id-3 {color: black;background-color: white;}#sk-container-id-3 pre{padding: 0;}#sk-container-id-3 div.sk-toggleable {background-color: white;}#sk-container-id-3 label.sk-toggleable__label {cursor: pointer;display: block;width: 100%;margin-bottom: 0;padding: 0.3em;box-sizing: border-box;text-align: center;}#sk-container-id-3 label.sk-toggleable__label-arrow:before {content: \"▸\";float: left;margin-right: 0.25em;color: #696969;}#sk-container-id-3 label.sk-toggleable__label-arrow:hover:before {color: black;}#sk-container-id-3 div.sk-estimator:hover label.sk-toggleable__label-arrow:before {color: black;}#sk-container-id-3 div.sk-toggleable__content {max-height: 0;max-width: 0;overflow: hidden;text-align: left;background-color: #f0f8ff;}#sk-container-id-3 div.sk-toggleable__content pre {margin: 0.2em;color: black;border-radius: 0.25em;background-color: #f0f8ff;}#sk-container-id-3 input.sk-toggleable__control:checked~div.sk-toggleable__content {max-height: 200px;max-width: 100%;overflow: auto;}#sk-container-id-3 input.sk-toggleable__control:checked~label.sk-toggleable__label-arrow:before {content: \"▾\";}#sk-container-id-3 div.sk-estimator input.sk-toggleable__control:checked~label.sk-toggleable__label {background-color: #d4ebff;}#sk-container-id-3 div.sk-label input.sk-toggleable__control:checked~label.sk-toggleable__label {background-color: #d4ebff;}#sk-container-id-3 input.sk-hidden--visually {border: 0;clip: rect(1px 1px 1px 1px);clip: rect(1px, 1px, 1px, 1px);height: 1px;margin: -1px;overflow: hidden;padding: 0;position: absolute;width: 1px;}#sk-container-id-3 div.sk-estimator {font-family: monospace;background-color: #f0f8ff;border: 1px dotted black;border-radius: 0.25em;box-sizing: border-box;margin-bottom: 0.5em;}#sk-container-id-3 div.sk-estimator:hover {background-color: #d4ebff;}#sk-container-id-3 div.sk-parallel-item::after {content: \"\";width: 100%;border-bottom: 1px solid gray;flex-grow: 1;}#sk-container-id-3 div.sk-label:hover label.sk-toggleable__label {background-color: #d4ebff;}#sk-container-id-3 div.sk-serial::before {content: \"\";position: absolute;border-left: 1px solid gray;box-sizing: border-box;top: 0;bottom: 0;left: 50%;z-index: 0;}#sk-container-id-3 div.sk-serial {display: flex;flex-direction: column;align-items: center;background-color: white;padding-right: 0.2em;padding-left: 0.2em;position: relative;}#sk-container-id-3 div.sk-item {position: relative;z-index: 1;}#sk-container-id-3 div.sk-parallel {display: flex;align-items: stretch;justify-content: center;background-color: white;position: relative;}#sk-container-id-3 div.sk-item::before, #sk-container-id-3 div.sk-parallel-item::before {content: \"\";position: absolute;border-left: 1px solid gray;box-sizing: border-box;top: 0;bottom: 0;left: 50%;z-index: -1;}#sk-container-id-3 div.sk-parallel-item {display: flex;flex-direction: column;z-index: 1;position: relative;background-color: white;}#sk-container-id-3 div.sk-parallel-item:first-child::after {align-self: flex-end;width: 50%;}#sk-container-id-3 div.sk-parallel-item:last-child::after {align-self: flex-start;width: 50%;}#sk-container-id-3 div.sk-parallel-item:only-child::after {width: 0;}#sk-container-id-3 div.sk-dashed-wrapped {border: 1px dashed gray;margin: 0 0.4em 0.5em 0.4em;box-sizing: border-box;padding-bottom: 0.4em;background-color: white;}#sk-container-id-3 div.sk-label label {font-family: monospace;font-weight: bold;display: inline-block;line-height: 1.2em;}#sk-container-id-3 div.sk-label-container {text-align: center;}#sk-container-id-3 div.sk-container {/* jupyter's `normalize.less` sets `[hidden] { display: none; }` but bootstrap.min.css set `[hidden] { display: none !important; }` so we also need the `!important` here to be able to override the default hidden behavior on the sphinx rendered scikit-learn.org. See: https://github.com/scikit-learn/scikit-learn/issues/21755 */display: inline-block !important;position: relative;}#sk-container-id-3 div.sk-text-repr-fallback {display: none;}</style><div id=\"sk-container-id-3\" class=\"sk-top-container\"><div class=\"sk-text-repr-fallback\"><pre>ColumnTransformer(transformers=[(&#x27;simpleimputer-1&#x27;,\n",
       "                                 SimpleImputer(fill_value=&#x27;alaa&#x27;,\n",
       "                                               strategy=&#x27;constant&#x27;),\n",
       "                                 [&#x27;Names&#x27;]),\n",
       "                                (&#x27;simpleimputer-2&#x27;, SimpleImputer(),\n",
       "                                 [&#x27;farthest_run_mi&#x27;])])</pre><b>In a Jupyter environment, please rerun this cell to show the HTML representation or trust the notebook. <br />On GitHub, the HTML representation is unable to render, please try loading this page with nbviewer.org.</b></div><div class=\"sk-container\" hidden><div class=\"sk-item sk-dashed-wrapped\"><div class=\"sk-label-container\"><div class=\"sk-label sk-toggleable\"><input class=\"sk-toggleable__control sk-hidden--visually\" id=\"sk-estimator-id-15\" type=\"checkbox\" ><label for=\"sk-estimator-id-15\" class=\"sk-toggleable__label sk-toggleable__label-arrow\">ColumnTransformer</label><div class=\"sk-toggleable__content\"><pre>ColumnTransformer(transformers=[(&#x27;simpleimputer-1&#x27;,\n",
       "                                 SimpleImputer(fill_value=&#x27;alaa&#x27;,\n",
       "                                               strategy=&#x27;constant&#x27;),\n",
       "                                 [&#x27;Names&#x27;]),\n",
       "                                (&#x27;simpleimputer-2&#x27;, SimpleImputer(),\n",
       "                                 [&#x27;farthest_run_mi&#x27;])])</pre></div></div></div><div class=\"sk-parallel\"><div class=\"sk-parallel-item\"><div class=\"sk-item\"><div class=\"sk-label-container\"><div class=\"sk-label sk-toggleable\"><input class=\"sk-toggleable__control sk-hidden--visually\" id=\"sk-estimator-id-16\" type=\"checkbox\" ><label for=\"sk-estimator-id-16\" class=\"sk-toggleable__label sk-toggleable__label-arrow\">simpleimputer-1</label><div class=\"sk-toggleable__content\"><pre>[&#x27;Names&#x27;]</pre></div></div></div><div class=\"sk-serial\"><div class=\"sk-item\"><div class=\"sk-estimator sk-toggleable\"><input class=\"sk-toggleable__control sk-hidden--visually\" id=\"sk-estimator-id-17\" type=\"checkbox\" ><label for=\"sk-estimator-id-17\" class=\"sk-toggleable__label sk-toggleable__label-arrow\">SimpleImputer</label><div class=\"sk-toggleable__content\"><pre>SimpleImputer(fill_value=&#x27;alaa&#x27;, strategy=&#x27;constant&#x27;)</pre></div></div></div></div></div></div><div class=\"sk-parallel-item\"><div class=\"sk-item\"><div class=\"sk-label-container\"><div class=\"sk-label sk-toggleable\"><input class=\"sk-toggleable__control sk-hidden--visually\" id=\"sk-estimator-id-18\" type=\"checkbox\" ><label for=\"sk-estimator-id-18\" class=\"sk-toggleable__label sk-toggleable__label-arrow\">simpleimputer-2</label><div class=\"sk-toggleable__content\"><pre>[&#x27;farthest_run_mi&#x27;]</pre></div></div></div><div class=\"sk-serial\"><div class=\"sk-item\"><div class=\"sk-estimator sk-toggleable\"><input class=\"sk-toggleable__control sk-hidden--visually\" id=\"sk-estimator-id-19\" type=\"checkbox\" ><label for=\"sk-estimator-id-19\" class=\"sk-toggleable__label sk-toggleable__label-arrow\">SimpleImputer</label><div class=\"sk-toggleable__content\"><pre>SimpleImputer()</pre></div></div></div></div></div></div></div></div></div></div>"
      ],
      "text/plain": [
       "ColumnTransformer(transformers=[('simpleimputer-1',\n",
       "                                 SimpleImputer(fill_value='alaa',\n",
       "                                               strategy='constant'),\n",
       "                                 ['Names']),\n",
       "                                ('simpleimputer-2', SimpleImputer(),\n",
       "                                 ['farthest_run_mi'])])"
      ]
     },
     "execution_count": 148,
     "metadata": {},
     "output_type": "execute_result"
    }
   ],
   "source": [
    "ct.set_output(transform='pandas')"
   ]
  },
  {
   "cell_type": "code",
   "execution_count": 152,
   "id": "63dc9987-377f-46e4-962e-78c8731c6243",
   "metadata": {},
   "outputs": [],
   "source": [
    "Work_pandas =ct.fit_transform(Work)"
   ]
  },
  {
   "cell_type": "code",
   "execution_count": 154,
   "id": "a9b5f7e0-4e30-446b-9ddc-25130e7bef05",
   "metadata": {},
   "outputs": [
    {
     "data": {
      "text/html": [
       "<div>\n",
       "<style scoped>\n",
       "    .dataframe tbody tr th:only-of-type {\n",
       "        vertical-align: middle;\n",
       "    }\n",
       "\n",
       "    .dataframe tbody tr th {\n",
       "        vertical-align: top;\n",
       "    }\n",
       "\n",
       "    .dataframe thead th {\n",
       "        text-align: right;\n",
       "    }\n",
       "</style>\n",
       "<table border=\"1\" class=\"dataframe\">\n",
       "  <thead>\n",
       "    <tr style=\"text-align: right;\">\n",
       "      <th></th>\n",
       "      <th>simpleimputer-1__Names</th>\n",
       "      <th>simpleimputer-2__farthest_run_mi</th>\n",
       "    </tr>\n",
       "  </thead>\n",
       "  <tbody>\n",
       "    <tr>\n",
       "      <th>0</th>\n",
       "      <td>Khaled</td>\n",
       "      <td>50.000000</td>\n",
       "    </tr>\n",
       "    <tr>\n",
       "      <th>1</th>\n",
       "      <td>amr</td>\n",
       "      <td>62.000000</td>\n",
       "    </tr>\n",
       "    <tr>\n",
       "      <th>2</th>\n",
       "      <td>alaa</td>\n",
       "      <td>53.166667</td>\n",
       "    </tr>\n",
       "    <tr>\n",
       "      <th>3</th>\n",
       "      <td>ahmed</td>\n",
       "      <td>100.000000</td>\n",
       "    </tr>\n",
       "    <tr>\n",
       "      <th>4</th>\n",
       "      <td>ali</td>\n",
       "      <td>26.000000</td>\n",
       "    </tr>\n",
       "    <tr>\n",
       "      <th>5</th>\n",
       "      <td>mohemed</td>\n",
       "      <td>53.166667</td>\n",
       "    </tr>\n",
       "    <tr>\n",
       "      <th>6</th>\n",
       "      <td>mahmoud</td>\n",
       "      <td>31.000000</td>\n",
       "    </tr>\n",
       "    <tr>\n",
       "      <th>7</th>\n",
       "      <td>eslem</td>\n",
       "      <td>50.000000</td>\n",
       "    </tr>\n",
       "  </tbody>\n",
       "</table>\n",
       "</div>"
      ],
      "text/plain": [
       "  simpleimputer-1__Names  simpleimputer-2__farthest_run_mi\n",
       "0                 Khaled                         50.000000\n",
       "1                    amr                         62.000000\n",
       "2                   alaa                         53.166667\n",
       "3                  ahmed                        100.000000\n",
       "4                    ali                         26.000000\n",
       "5                mohemed                         53.166667\n",
       "6                mahmoud                         31.000000\n",
       "7                  eslem                         50.000000"
      ]
     },
     "execution_count": 154,
     "metadata": {},
     "output_type": "execute_result"
    }
   ],
   "source": [
    "Work_pandas"
   ]
  },
  {
   "cell_type": "code",
   "execution_count": null,
   "id": "f941a69f-b9ba-41c6-8031-6e77beda983f",
   "metadata": {},
   "outputs": [],
   "source": []
  },
  {
   "cell_type": "code",
   "execution_count": null,
   "id": "49416c37-a753-4c7b-87aa-849e6ce9711d",
   "metadata": {},
   "outputs": [],
   "source": []
  },
  {
   "cell_type": "code",
   "execution_count": null,
   "id": "e07484b8-0608-430d-a448-edd51770da9b",
   "metadata": {},
   "outputs": [],
   "source": []
  },
  {
   "cell_type": "code",
   "execution_count": null,
   "id": "4b7887f3-f6cf-46c5-b8ed-995013e119ea",
   "metadata": {},
   "outputs": [],
   "source": []
  }
 ],
 "metadata": {
  "kernelspec": {
   "display_name": "Python [conda env:base] *",
   "language": "python",
   "name": "conda-base-py"
  },
  "language_info": {
   "codemirror_mode": {
    "name": "ipython",
    "version": 3
   },
   "file_extension": ".py",
   "mimetype": "text/x-python",
   "name": "python",
   "nbconvert_exporter": "python",
   "pygments_lexer": "ipython3",
   "version": "3.11.7"
  }
 },
 "nbformat": 4,
 "nbformat_minor": 5
}
